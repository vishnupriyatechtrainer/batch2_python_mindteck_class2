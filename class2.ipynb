{
 "cells": [
  {
   "cell_type": "code",
   "execution_count": null,
   "id": "b7ec1d6a-45bb-48d3-b49a-d0e6ceb4d928",
   "metadata": {},
   "outputs": [],
   "source": [
    "# operators\n",
    "# statements - conditional \n",
    "# function \n",
    "\n",
    "# iteration statements\n",
    "# string inbuit methods\n"
   ]
  },
  {
   "cell_type": "code",
   "execution_count": 1,
   "id": "81fcb204-170a-453b-9bff-64123d7174c0",
   "metadata": {},
   "outputs": [
    {
     "name": "stdout",
     "output_type": "stream",
     "text": [
      "5\n"
     ]
    }
   ],
   "source": [
    "a=10\n",
    "b=2\n",
    "c=a//b\n",
    "print(c) # floor operator - quotient after decimal dont consider"
   ]
  },
  {
   "cell_type": "code",
   "execution_count": 2,
   "id": "c7a42f29-9847-4dcb-ad94-e3f8f1c3ddd5",
   "metadata": {},
   "outputs": [
    {
     "name": "stdout",
     "output_type": "stream",
     "text": [
      "1\n"
     ]
    }
   ],
   "source": [
    "a=10\n",
    "b=3\n",
    "c=a%b # modulo remainder\n",
    "print(c)"
   ]
  },
  {
   "cell_type": "code",
   "execution_count": 3,
   "id": "0f22b830-241c-4839-ba28-24b50c6d7f4c",
   "metadata": {},
   "outputs": [
    {
     "name": "stdout",
     "output_type": "stream",
     "text": [
      "100\n"
     ]
    }
   ],
   "source": [
    "a=10\n",
    "b=2\n",
    "c=a**b\n",
    "print(c) # exponenial"
   ]
  },
  {
   "cell_type": "markdown",
   "id": "911cfd11-9ac5-44fc-a026-e62157341680",
   "metadata": {},
   "source": [
    "comparsion operator"
   ]
  },
  {
   "cell_type": "code",
   "execution_count": 4,
   "id": "9895cb78-e4a8-47c1-9888-644e37b49785",
   "metadata": {},
   "outputs": [
    {
     "name": "stdout",
     "output_type": "stream",
     "text": [
      "True\n",
      "False\n",
      "False\n",
      "True\n",
      "True\n",
      "False\n"
     ]
    }
   ],
   "source": [
    "a=10\n",
    "b=2\n",
    "\n",
    "print(a>b)\n",
    "print(a<b)\n",
    "print(a==b)\n",
    "print(a!=b)\n",
    "print(a>=b)\n",
    "print(a<=b)"
   ]
  },
  {
   "cell_type": "code",
   "execution_count": 7,
   "id": "7e91c0f8-b05b-4652-860e-8578811fe794",
   "metadata": {},
   "outputs": [
    {
     "name": "stdout",
     "output_type": "stream",
     "text": [
      "b is bigger\n"
     ]
    }
   ],
   "source": [
    "a=10\n",
    "b=20\n",
    "\n",
    "if a>b:\n",
    "    print(\"a is bigger\")\n",
    "if a<b:\n",
    "    print(\"b is bigger\")"
   ]
  },
  {
   "cell_type": "code",
   "execution_count": 12,
   "id": "7264a65a-660b-403f-adda-f4318e1d8c71",
   "metadata": {},
   "outputs": [
    {
     "name": "stdout",
     "output_type": "stream",
     "text": [
      "a and b are not equal\n"
     ]
    }
   ],
   "source": [
    "a=10\n",
    "b=101\n",
    "\n",
    "if a==b:\n",
    "    print('a and b are equal')\n",
    "else:\n",
    "    print('a and b are not equal')"
   ]
  },
  {
   "cell_type": "markdown",
   "id": "6b188036-6489-454f-8a8a-69f89add4e56",
   "metadata": {},
   "source": [
    "logical operators"
   ]
  },
  {
   "cell_type": "code",
   "execution_count": 15,
   "id": "9eed667a-7e99-482e-b8e5-262545f05337",
   "metadata": {},
   "outputs": [
    {
     "name": "stdout",
     "output_type": "stream",
     "text": [
      "both condition satisfied\n"
     ]
    }
   ],
   "source": [
    "x=5\n",
    "\n",
    "if x>3 and x<8:\n",
    "    print('both condition satisfied')"
   ]
  },
  {
   "cell_type": "code",
   "execution_count": 16,
   "id": "e836c091-34de-487b-a3a0-f3d91f5b9871",
   "metadata": {},
   "outputs": [
    {
     "name": "stdout",
     "output_type": "stream",
     "text": [
      "one condition is true\n"
     ]
    }
   ],
   "source": [
    "x=5\n",
    "\n",
    "if x>3 or x<4:\n",
    "    print('one condition is true')"
   ]
  },
  {
   "cell_type": "code",
   "execution_count": 17,
   "id": "47eb899a-7807-4241-9ba6-9a1885786274",
   "metadata": {},
   "outputs": [
    {
     "name": "stdout",
     "output_type": "stream",
     "text": [
      "both conditions are false\n"
     ]
    }
   ],
   "source": [
    "x=5\n",
    "\n",
    "if(not(x<3 and x>10)):\n",
    "    print('both conditions are false')"
   ]
  },
  {
   "cell_type": "code",
   "execution_count": null,
   "id": "df5e34d4-78f8-4ff9-931c-90371e2c759d",
   "metadata": {},
   "outputs": [],
   "source": [
    "assignment operator"
   ]
  },
  {
   "cell_type": "code",
   "execution_count": 18,
   "id": "7d6e7fef-cb06-4455-a87f-c6c6384623d0",
   "metadata": {},
   "outputs": [
    {
     "name": "stdout",
     "output_type": "stream",
     "text": [
      "12\n"
     ]
    }
   ],
   "source": [
    "x=10\n",
    "y=x+2\n",
    "print(y)"
   ]
  },
  {
   "cell_type": "code",
   "execution_count": 19,
   "id": "fc883c7d-74fe-40aa-87ae-2c94dd9183cf",
   "metadata": {},
   "outputs": [
    {
     "name": "stdout",
     "output_type": "stream",
     "text": [
      "12\n"
     ]
    }
   ],
   "source": [
    "x=10\n",
    "x=x+2\n",
    "print(x)"
   ]
  },
  {
   "cell_type": "code",
   "execution_count": 20,
   "id": "a6589f10-65f4-45bd-b9ec-e26c06580609",
   "metadata": {},
   "outputs": [
    {
     "name": "stdout",
     "output_type": "stream",
     "text": [
      "12\n"
     ]
    }
   ],
   "source": [
    "x=10\n",
    "x+=2\n",
    "print(x) # assignment operator"
   ]
  },
  {
   "cell_type": "markdown",
   "id": "ed6f4a54-333e-4b0a-8d8c-92886e428df0",
   "metadata": {},
   "source": [
    "function - set of code that need to perform task \n",
    "function - block of code\n",
    "\n",
    "1, named function 2, anonymous function(lambda)"
   ]
  },
  {
   "cell_type": "code",
   "execution_count": null,
   "id": "0ddd7cdc-790e-4df4-8004-4dbfd8c1f9ba",
   "metadata": {},
   "outputs": [],
   "source": [
    "# simple function"
   ]
  },
  {
   "cell_type": "code",
   "execution_count": 21,
   "id": "80078bd3-d141-4182-ab1f-b2970d112715",
   "metadata": {},
   "outputs": [
    {
     "name": "stdout",
     "output_type": "stream",
     "text": [
      "hello\n"
     ]
    }
   ],
   "source": [
    "def display():\n",
    "    print('hello')\n",
    "display()\n",
    "    "
   ]
  },
  {
   "cell_type": "code",
   "execution_count": 22,
   "id": "d4ac6002-b7d7-424d-8735-49bc18027662",
   "metadata": {},
   "outputs": [],
   "source": [
    "def john():\n",
    "    print('python dev')\n",
    "\n",
    "def smith():\n",
    "    print('fullstack dev')"
   ]
  },
  {
   "cell_type": "code",
   "execution_count": 23,
   "id": "82dc9f88-c613-4091-834a-43ff26ab53d7",
   "metadata": {},
   "outputs": [
    {
     "name": "stdout",
     "output_type": "stream",
     "text": [
      "python dev\n"
     ]
    }
   ],
   "source": [
    "john()"
   ]
  },
  {
   "cell_type": "code",
   "execution_count": 24,
   "id": "e39af81a-3a7f-433f-b3ea-3189c1f73dc1",
   "metadata": {},
   "outputs": [
    {
     "name": "stdout",
     "output_type": "stream",
     "text": [
      "fullstack dev\n"
     ]
    }
   ],
   "source": [
    "smith()"
   ]
  },
  {
   "cell_type": "markdown",
   "id": "fa5872f0-e7e7-46c4-ada8-f3589b2890dd",
   "metadata": {},
   "source": [
    "functions with arguments"
   ]
  },
  {
   "cell_type": "code",
   "execution_count": 26,
   "id": "4154f8a7-9eb0-4be8-8d27-41d45218327b",
   "metadata": {},
   "outputs": [
    {
     "name": "stdout",
     "output_type": "stream",
     "text": [
      "33\n"
     ]
    }
   ],
   "source": [
    "def add(a,b):\n",
    "    c=a+b\n",
    "    print(c)\n",
    "add(11,22)"
   ]
  },
  {
   "cell_type": "code",
   "execution_count": 27,
   "id": "3eedc452-d01e-4b53-934a-ca3eebef74b5",
   "metadata": {},
   "outputs": [
    {
     "name": "stdout",
     "output_type": "stream",
     "text": [
      "90\n"
     ]
    }
   ],
   "source": [
    "e=add(34,56)\n",
    "e"
   ]
  },
  {
   "cell_type": "code",
   "execution_count": 28,
   "id": "5fbe9ebf-5443-4c0d-90cf-7b9e5066de44",
   "metadata": {},
   "outputs": [
    {
     "ename": "TypeError",
     "evalue": "add() takes 2 positional arguments but 3 were given",
     "output_type": "error",
     "traceback": [
      "\u001b[1;31m--------------------------------------------------------------------------\u001b[0m",
      "\u001b[1;31mTypeError\u001b[0m                                Traceback (most recent call last)",
      "Cell \u001b[1;32mIn[28], line 1\u001b[0m\n\u001b[1;32m----> 1\u001b[0m add(\u001b[38;5;241m12\u001b[39m,\u001b[38;5;241m23\u001b[39m,\u001b[38;5;241m45\u001b[39m)\n",
      "\u001b[1;31mTypeError\u001b[0m: add() takes 2 positional arguments but 3 were given"
     ]
    }
   ],
   "source": [
    "add(12,23,45)"
   ]
  },
  {
   "cell_type": "code",
   "execution_count": 29,
   "id": "f9cfe236-920e-4bb7-a187-a8bf4182d388",
   "metadata": {},
   "outputs": [
    {
     "ename": "TypeError",
     "evalue": "add() missing 1 required positional argument: 'b'",
     "output_type": "error",
     "traceback": [
      "\u001b[1;31m--------------------------------------------------------------------------\u001b[0m",
      "\u001b[1;31mTypeError\u001b[0m                                Traceback (most recent call last)",
      "Cell \u001b[1;32mIn[29], line 1\u001b[0m\n\u001b[1;32m----> 1\u001b[0m add(\u001b[38;5;241m11\u001b[39m)\n",
      "\u001b[1;31mTypeError\u001b[0m: add() missing 1 required positional argument: 'b'"
     ]
    }
   ],
   "source": [
    "add(11)"
   ]
  },
  {
   "cell_type": "code",
   "execution_count": 32,
   "id": "c0db2d7a-367b-4311-b373-37043ea47f53",
   "metadata": {},
   "outputs": [
    {
     "name": "stdout",
     "output_type": "stream",
     "text": [
      "10\n",
      "20\n"
     ]
    }
   ],
   "source": [
    "a=10\n",
    "b=20\n",
    "\n",
    "print(a)\n",
    "print(b)"
   ]
  },
  {
   "cell_type": "code",
   "execution_count": 35,
   "id": "01ed356a-89ed-4d4b-977b-933f20210651",
   "metadata": {},
   "outputs": [
    {
     "name": "stdout",
     "output_type": "stream",
     "text": [
      "2025\n"
     ]
    }
   ],
   "source": [
    "def square(n):\n",
    "    n=n**2\n",
    "    print(n)\n",
    "square(45)"
   ]
  },
  {
   "cell_type": "code",
   "execution_count": null,
   "id": "715d298b-da26-4347-b663-e0faa3178e41",
   "metadata": {},
   "outputs": [],
   "source": [
    "functions with return statement"
   ]
  },
  {
   "cell_type": "code",
   "execution_count": 38,
   "id": "be8551c2-4a41-408b-a130-0ae74eb86855",
   "metadata": {},
   "outputs": [
    {
     "name": "stdout",
     "output_type": "stream",
     "text": [
      "42\n"
     ]
    }
   ],
   "source": [
    "def add(a,b):\n",
    "    c=a+b\n",
    "    return c\n",
    "y=add(12,30)\n",
    "print(y)"
   ]
  },
  {
   "cell_type": "code",
   "execution_count": 37,
   "id": "17fb897d-3e68-4824-a945-d2698fbef602",
   "metadata": {},
   "outputs": [
    {
     "name": "stdout",
     "output_type": "stream",
     "text": [
      "\n",
      "None\n"
     ]
    }
   ],
   "source": [
    "print(print())"
   ]
  },
  {
   "cell_type": "code",
   "execution_count": 40,
   "id": "ab89edb0-6a33-4680-b5c8-96101ea5c6e1",
   "metadata": {},
   "outputs": [
    {
     "name": "stdin",
     "output_type": "stream",
     "text": [
      "enter a value: 12\n",
      "enter b value: 13\n"
     ]
    },
    {
     "name": "stdout",
     "output_type": "stream",
     "text": [
      "25\n"
     ]
    }
   ],
   "source": [
    "a=int(input('enter a value:'))\n",
    "b=int(input('enter b value:'))\n",
    "\n",
    "def add(a,b):\n",
    "    c=a+b\n",
    "    return c\n",
    "y=add(a,b)\n",
    "print(y)"
   ]
  },
  {
   "cell_type": "code",
   "execution_count": 42,
   "id": "f92b8fbc-f88e-45bf-889f-9d662d8acde3",
   "metadata": {},
   "outputs": [
    {
     "name": "stdin",
     "output_type": "stream",
     "text": [
      "enter a value: 34\n",
      "enter b value: 34\n"
     ]
    },
    {
     "name": "stdout",
     "output_type": "stream",
     "text": [
      "68\n"
     ]
    }
   ],
   "source": [
    "x=int(input('enter a value:'))\n",
    "y=int(input('enter b value:'))\n",
    "\n",
    "def add(a,b):\n",
    "    c=a+b\n",
    "    return c\n",
    "y1=add(x,y)\n",
    "print(y1)"
   ]
  },
  {
   "cell_type": "code",
   "execution_count": 44,
   "id": "b6ae9a20-de8b-4dca-b149-bf8fdd91c6f5",
   "metadata": {},
   "outputs": [
    {
     "name": "stdin",
     "output_type": "stream",
     "text": [
      "enter principal value: 100000\n",
      "enter the no of years 2\n",
      "enter the rate of interest: 2.5\n",
      "enter emi or si : emi\n"
     ]
    },
    {
     "name": "stdout",
     "output_type": "stream",
     "text": [
      "2500.0\n"
     ]
    }
   ],
   "source": [
    "def sicalc(p,n,r):\n",
    "    si=p*n*r/100\n",
    "    print(si)\n",
    "\n",
    "def emicalc(p,n,r):\n",
    "    emi=p*n*r/200\n",
    "    print(emi)\n",
    "\n",
    "x=int(input('enter principal value:'))\n",
    "y=int(input('enter the no of years'))\n",
    "z=float(input('enter the rate of interest:'))\n",
    "\n",
    "choice = input('enter emi or si :')\n",
    "\n",
    "if choice ==\"si\":\n",
    "    sicalc(x,y,z)\n",
    "\n",
    "if choice ==\"emi\":\n",
    "    emicalc(x,y,z)\n",
    "\n"
   ]
  },
  {
   "cell_type": "code",
   "execution_count": 47,
   "id": "8cec8b8b-401b-4e42-8b1b-a80c8286ff71",
   "metadata": {},
   "outputs": [
    {
     "name": "stdin",
     "output_type": "stream",
     "text": [
      "enter principal value: 100000\n",
      "enter the no of years 2\n",
      "enter the rate of interest: 2.5\n",
      "enter emi or si : 2\n"
     ]
    },
    {
     "name": "stdout",
     "output_type": "stream",
     "text": [
      "2500.0\n"
     ]
    }
   ],
   "source": [
    "def sicalc(p,n,r):\n",
    "    si=p*n*r/100\n",
    "    print(si)\n",
    "\n",
    "def emicalc(p,n,r):\n",
    "    emi=p*n*r/200\n",
    "    return emi\n",
    "\n",
    "x=int(input('enter principal value:'))\n",
    "y=int(input('enter the no of years'))\n",
    "z=float(input('enter the rate of interest:'))\n",
    "\n",
    "choice = int(input('enter emi or si :'))\n",
    "\n",
    "if choice == 1:\n",
    "    sicalc(x,y,z)\n",
    "\n",
    "if choice == 2:\n",
    "    e=emicalc(x,y,z)\n",
    "    print(e)\n",
    "\n"
   ]
  },
  {
   "cell_type": "code",
   "execution_count": null,
   "id": "350d6c2e-94e3-433a-85c2-10de8204f599",
   "metadata": {},
   "outputs": [],
   "source": [
    "statements - conditional , iteration statements - loop - for loop , while\n",
    "\n",
    "if \n",
    "if else\n",
    "elif - else if\n",
    "nested if\n"
   ]
  },
  {
   "cell_type": "code",
   "execution_count": 48,
   "id": "d5523a9c-3fce-49f0-94ec-57cb72cd50c4",
   "metadata": {},
   "outputs": [
    {
     "name": "stdout",
     "output_type": "stream",
     "text": [
      "a is bigger\n"
     ]
    }
   ],
   "source": [
    "a=10\n",
    "b=2\n",
    "if a>b:\n",
    "    print('a is bigger')"
   ]
  },
  {
   "cell_type": "code",
   "execution_count": 53,
   "id": "b0d4c8ba-8b4d-4d25-9421-970a293b7121",
   "metadata": {},
   "outputs": [
    {
     "name": "stdin",
     "output_type": "stream",
     "text": [
      "enter a value: 2\n",
      "enter b value: 2\n"
     ]
    },
    {
     "name": "stdout",
     "output_type": "stream",
     "text": [
      "b is bigger\n"
     ]
    }
   ],
   "source": [
    "a=int(input('enter a value:'))\n",
    "b=int(input('enter b value:'))\n",
    "if a>b:\n",
    "    print('a is bigger')\n",
    "else:\n",
    "    print('b is bigger')"
   ]
  },
  {
   "cell_type": "code",
   "execution_count": 56,
   "id": "008a5f2d-4717-46c9-8e64-421fe57dc8cc",
   "metadata": {},
   "outputs": [
    {
     "name": "stdin",
     "output_type": "stream",
     "text": [
      "enter a value: 2\n",
      "enter b value: 4\n"
     ]
    },
    {
     "name": "stdout",
     "output_type": "stream",
     "text": [
      "b is bigger\n"
     ]
    }
   ],
   "source": [
    "a=int(input('enter a value:'))\n",
    "b=int(input('enter b value:'))\n",
    "if a>b:\n",
    "    print('a is bigger')\n",
    "elif a==b:\n",
    "    print('a and b are equal')\n",
    "else:\n",
    "    print('b is bigger')"
   ]
  },
  {
   "cell_type": "code",
   "execution_count": 60,
   "id": "bd11ed18-45fb-4d16-8789-98c54fdbc2e2",
   "metadata": {},
   "outputs": [
    {
     "name": "stdout",
     "output_type": "stream",
     "text": [
      "zero number\n"
     ]
    }
   ],
   "source": [
    "num = 0\n",
    "\n",
    "if num>0:\n",
    "    print('positive number')\n",
    "elif num==0:\n",
    "    print('zero number')\n",
    "else:\n",
    "    print('negative number')"
   ]
  },
  {
   "cell_type": "code",
   "execution_count": null,
   "id": "4b1c91df-3405-439a-98c2-3e092e1d3461",
   "metadata": {},
   "outputs": [],
   "source": [
    "nested if "
   ]
  },
  {
   "cell_type": "code",
   "execution_count": null,
   "id": "150b72b7-a0b0-4c00-ba20-503705cc7140",
   "metadata": {},
   "outputs": [],
   "source": [
    "num = 5\n",
    "\n",
    "if num>=0:\n",
    "    if num>0:\n",
    "        print('positive number')\n",
    "    else:\n",
    "        print('zero number')\n",
    "    \n",
    "    "
   ]
  },
  {
   "cell_type": "code",
   "execution_count": null,
   "id": "7daa515d-d4b0-445e-bb7c-7ba9a147e88a",
   "metadata": {},
   "outputs": [],
   "source": []
  },
  {
   "cell_type": "code",
   "execution_count": null,
   "id": "e84b1a7b-15a9-4463-a826-9d68d6852482",
   "metadata": {},
   "outputs": [],
   "source": []
  }
 ],
 "metadata": {
  "kernelspec": {
   "display_name": "Python [conda env:base] *",
   "language": "python",
   "name": "conda-base-py"
  },
  "language_info": {
   "codemirror_mode": {
    "name": "ipython",
    "version": 3
   },
   "file_extension": ".py",
   "mimetype": "text/x-python",
   "name": "python",
   "nbconvert_exporter": "python",
   "pygments_lexer": "ipython3",
   "version": "3.12.4"
  }
 },
 "nbformat": 4,
 "nbformat_minor": 5
}
